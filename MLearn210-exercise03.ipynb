{
 "cells": [
  {
   "cell_type": "markdown",
   "metadata": {},
   "source": [
    "<h1>Lesson 3. Classification: Credit worthiness from German bank</h1>"
   ]
  },
  {
   "cell_type": "markdown",
   "metadata": {},
   "source": [
    "<img src=\"https://upload.wikimedia.org/wikipedia/commons/8/8e/Flag_map_of_Germany.svg\" style=\"height:200px;\">\n",
    "  \n",
    "  <p>In this exercise you will predict credit worthiness of custmers of a German bank (<a href=\"https://archive.ics.uci.edu/ml/datasets/statlog+(german+credit+data)\">provided by Hans Hofmann from Univeristy of Hamburg</a>). The data we will be working with here is a reduced version of the full dataset.</p>\n",
    "<p>The following features are available for the 1000-row dataset:</p>\n",
    "<ul>\n",
    "<li>Class: Credit worthiness (what you are trying to predict)</li>\n",
    "<li>Duration: Duration of the credit (in months) </li>\n",
    "<li>Amount: Amount of money asked for (in Deutche Marks (DM))</li>\n",
    "<li>InstallmentRatePercentage: Installment rate in percentage of disposable income </li>\n",
    "<li>ResidenceDuration: Number of years at current residence</li>\n",
    "<li>Age: Person's age</li>\n",
    "<li>NumberExistingCredits: Number of credit accounts</li>\n",
    "<li>NumberPeopleMaintenance: Number of people being liable to provide maintenance for the credit</li>\n",
    "<li>Telephone: Is there a phone number associated with the customer name?  </li>\n",
    "<li>ForeignWorker: Is the person a foreign worker?</li>\n",
    "<li>CheckingAccountStatus: Amount of money in the checking account (in DM)<ul>\n",
    "<li>CheckingAccountStatus.lt.0</li>\n",
    "<li>CheckingAccountStatus.0.to.200</li>\n",
    "<li>CheckingAccountStatus.gt.200</li>\n",
    "</ul></li>\n",
    "<li>CreditHistory: Past credit history<ul>\n",
    "<li>CreditHistory.ThisBank.AllPaid</li>\n",
    "<li>CreditHistory.PaidDuly</li>\n",
    "<li>CreditHistory.Delay</li>\n",
    "<li>CreditHistory.Critical</li>\n",
    "</ul></li>\n",
    "</ul>\n",
    "\n",
    "<p>This dataset is available in <a href=\"http://caret.r-forge.r-project.org/\">'caret'</a> library. Let's load it and see how it looks:</p>"
   ]
  },
  {
   "cell_type": "code",
   "execution_count": 381,
   "metadata": {
    "scrolled": false
   },
   "outputs": [
    {
     "data": {
      "text/html": [
       "<ol class=list-inline>\n",
       "\t<li>1000</li>\n",
       "\t<li>17</li>\n",
       "</ol>\n"
      ],
      "text/latex": [
       "\\begin{enumerate*}\n",
       "\\item 1000\n",
       "\\item 17\n",
       "\\end{enumerate*}\n"
      ],
      "text/markdown": [
       "1. 1000\n",
       "2. 17\n",
       "\n",
       "\n"
      ],
      "text/plain": [
       "[1] 1000   17"
      ]
     },
     "metadata": {},
     "output_type": "display_data"
    },
    {
     "data": {
      "text/html": [
       "<ol class=list-inline>\n",
       "\t<li>802</li>\n",
       "\t<li>17</li>\n",
       "</ol>\n"
      ],
      "text/latex": [
       "\\begin{enumerate*}\n",
       "\\item 802\n",
       "\\item 17\n",
       "\\end{enumerate*}\n"
      ],
      "text/markdown": [
       "1. 802\n",
       "2. 17\n",
       "\n",
       "\n"
      ],
      "text/plain": [
       "[1] 802  17"
      ]
     },
     "metadata": {},
     "output_type": "display_data"
    },
    {
     "data": {
      "text/html": [
       "<ol class=list-inline>\n",
       "\t<li>198</li>\n",
       "\t<li>17</li>\n",
       "</ol>\n"
      ],
      "text/latex": [
       "\\begin{enumerate*}\n",
       "\\item 198\n",
       "\\item 17\n",
       "\\end{enumerate*}\n"
      ],
      "text/markdown": [
       "1. 198\n",
       "2. 17\n",
       "\n",
       "\n"
      ],
      "text/plain": [
       "[1] 198  17"
      ]
     },
     "metadata": {},
     "output_type": "display_data"
    },
    {
     "name": "stdout",
     "output_type": "stream",
     "text": [
      "'data.frame':\t802 obs. of  17 variables:\n",
      " $ Class                         : Factor w/ 2 levels \"Bad\",\"Good\": 2 1 2 2 2 2 1 1 2 1 ...\n",
      " $ Duration                      : int  6 48 12 36 24 12 30 48 12 24 ...\n",
      " $ Amount                        : int  1169 5951 2096 9055 2835 3059 5234 4308 1567 1199 ...\n",
      " $ InstallmentRatePercentage     : int  4 2 2 2 3 2 4 3 1 4 ...\n",
      " $ ResidenceDuration             : int  4 2 3 4 4 4 2 4 1 4 ...\n",
      " $ Age                           : int  67 22 49 35 53 61 28 24 22 60 ...\n",
      " $ NumberExistingCredits         : int  2 1 1 1 1 1 2 1 1 2 ...\n",
      " $ NumberPeopleMaintenance       : int  1 1 2 2 1 1 1 1 1 1 ...\n",
      " $ Telephone                     : num  0 1 1 0 1 1 1 1 0 1 ...\n",
      " $ ForeignWorker                 : num  1 1 1 1 1 1 1 1 1 1 ...\n",
      " $ CheckingAccountStatus.lt.0    : num  1 0 0 0 0 0 0 1 0 1 ...\n",
      " $ CheckingAccountStatus.0.to.200: num  0 1 0 0 0 0 1 0 1 0 ...\n",
      " $ CheckingAccountStatus.gt.200  : num  0 0 0 0 0 0 0 0 0 0 ...\n",
      " $ CreditHistory.ThisBank.AllPaid: num  0 0 0 0 0 0 0 0 0 0 ...\n",
      " $ CreditHistory.PaidDuly        : num  0 1 0 1 1 1 0 1 1 0 ...\n",
      " $ CreditHistory.Delay           : num  0 0 0 0 0 0 0 0 0 0 ...\n",
      " $ CreditHistory.Critical        : num  1 0 1 0 0 0 1 0 0 1 ...\n",
      "'data.frame':\t198 obs. of  17 variables:\n",
      " $ Class                         : Factor w/ 2 levels \"Bad\",\"Good\": 2 1 2 1 1 2 2 2 2 2 ...\n",
      " $ Duration                      : int  42 24 36 12 24 24 9 12 18 24 ...\n",
      " $ Amount                        : int  7882 4870 6948 1295 1282 3430 2134 1804 1913 4020 ...\n",
      " $ InstallmentRatePercentage     : int  2 3 2 3 4 3 4 3 3 2 ...\n",
      " $ ResidenceDuration             : int  4 4 2 1 2 2 4 4 3 2 ...\n",
      " $ Age                           : int  45 53 35 25 32 31 48 44 36 27 ...\n",
      " $ NumberExistingCredits         : int  1 2 1 1 1 1 3 1 1 1 ...\n",
      " $ NumberPeopleMaintenance       : int  2 2 1 1 1 2 1 1 1 1 ...\n",
      " $ Telephone                     : num  1 1 0 1 1 0 0 1 0 1 ...\n",
      " $ ForeignWorker                 : num  1 1 1 1 1 1 1 1 1 1 ...\n",
      " $ CheckingAccountStatus.lt.0    : num  1 1 0 0 1 0 0 0 0 1 ...\n",
      " $ CheckingAccountStatus.0.to.200: num  0 0 1 1 0 0 0 1 1 0 ...\n",
      " $ CheckingAccountStatus.gt.200  : num  0 0 0 0 0 0 0 0 0 0 ...\n",
      " $ CreditHistory.ThisBank.AllPaid: num  0 0 0 0 0 0 0 0 0 0 ...\n",
      " $ CreditHistory.PaidDuly        : num  1 0 1 1 1 1 0 0 1 1 ...\n",
      " $ CreditHistory.Delay           : num  0 1 0 0 0 0 0 0 0 0 ...\n",
      " $ CreditHistory.Critical        : num  0 0 0 0 0 0 1 1 0 0 ...\n"
     ]
    }
   ],
   "source": [
    "options(repr.plot.width=5, repr.plot.height=5)\n",
    "\n",
    "library(\"MASS\") # For lda\n",
    "library(\"caret\") # For the dataset\n",
    "data(GermanCredit)\n",
    "\n",
    "# 'credit' is the reduced version that we will be working with\n",
    "credit.all <- GermanCredit[,c(10, 1:9, 11:13, 16:19)]\n",
    "set.seed(123)\n",
    "# credit.idx <- sample(2, nrow(iris), replace=TRUE, prob=c(4/5, 1/5))\n",
    "credit.idx <- sample(2, nrow(credit.all), replace=TRUE, prob=c(4/5, 1/5))\n",
    "\n",
    "credit.train <- credit.all[credit.idx==1,]\n",
    "credit.test <- credit.all[credit.idx==2,]\n",
    "\n",
    "dim(credit.all)\n",
    "dim(credit.train)\n",
    "dim(credit.test)\n",
    "\n",
    "# head(credit.train)\n",
    "# head(credit.test)\n",
    "str(credit.train)\n",
    "str(credit.test)"
   ]
  },
  {
   "cell_type": "markdown",
   "metadata": {},
   "source": [
    "<h3>Q.1. Show a boxplot of the age of the person asking for the credit vs. their credit worthiness for the training data. Is age a good predictor of the credit worthiness?</h3>"
   ]
  },
  {
   "cell_type": "code",
   "execution_count": 382,
   "metadata": {
    "scrolled": false
   },
   "outputs": [
    {
     "data": {
      "image/png": "[encoded data removed]",
      "text/plain": [
       "plot without title"
      ]
     },
     "metadata": {},
     "output_type": "display_data"
    }
   ],
   "source": [
    "# Put the command (or commands) here that would give an answer to the above question.\n",
    "boxplot(formula = Age ~ Class, data = credit.train, xlab = \"Class (credit worthiness)\", ylab = \"Age\")"
   ]
  },
  {
   "cell_type": "markdown",
   "metadata": {},
   "source": [
    "> **ANSWER Q1**  \n",
    "> Age is not a good predictor of credit worthiness, since it does not separate the \"Bad\" from the \"Good\" class well enough."
   ]
  },
  {
   "cell_type": "markdown",
   "metadata": {},
   "source": [
    "<h3>Q.2. Can you generate a table that shows CreditHistory.Critical vs. Credit Worthiness for the training data. Can you comment whether person with critical credit history is more credit worthy?</h3> "
   ]
  },
  {
   "cell_type": "code",
   "execution_count": 383,
   "metadata": {},
   "outputs": [
    {
     "data": {
      "text/plain": [
       "                      Class\n",
       "CreditHistory.Critical Bad Good\n",
       "                     0 196  371\n",
       "                     1  37  198"
      ]
     },
     "metadata": {},
     "output_type": "display_data"
    }
   ],
   "source": [
    "# Command:\n",
    "xtabs(~ CreditHistory.Critical + Class, data = credit.train)\n",
    "\n",
    "# One sentence summary:"
   ]
  },
  {
   "cell_type": "markdown",
   "metadata": {},
   "source": [
    "> **ANSWER Q2**  \n",
    "> It does appear that people with critical credit history (CreditHistory.Critical==1) are more credit worthy (198 \"Good\" vs 37 \"Bad\")."
   ]
  },
  {
   "cell_type": "markdown",
   "metadata": {},
   "source": [
    "<h3>Q.3. Generate a logistic regression model that uses the data. Summarize the data with a command. </h3>"
   ]
  },
  {
   "cell_type": "code",
   "execution_count": 384,
   "metadata": {},
   "outputs": [
    {
     "data": {
      "text/plain": [
       "\n",
       "Call:\n",
       "glm(formula = Class ~ ., family = \"binomial\", data = credit.train)\n",
       "\n",
       "Deviance Residuals: \n",
       "    Min       1Q   Median       3Q      Max  \n",
       "-2.4144  -0.8817   0.4509   0.7859   2.0467  \n",
       "\n",
       "Coefficients:\n",
       "                                 Estimate Std. Error z value Pr(>|z|)    \n",
       "(Intercept)                     4.007e+00  1.089e+00   3.681 0.000232 ***\n",
       "Duration                       -1.898e-02  9.229e-03  -2.057 0.039714 *  \n",
       "Amount                         -7.967e-05  4.210e-05  -1.892 0.058467 .  \n",
       "InstallmentRatePercentage      -2.746e-01  8.966e-02  -3.063 0.002192 ** \n",
       "ResidenceDuration               2.464e-03  8.211e-02   0.030 0.976059    \n",
       "Age                             1.808e-02  8.526e-03   2.120 0.034002 *  \n",
       "NumberExistingCredits          -2.437e-01  1.907e-01  -1.278 0.201158    \n",
       "NumberPeopleMaintenance        -1.652e-01  2.616e-01  -0.631 0.527754    \n",
       "Telephone                      -2.366e-01  1.938e-01  -1.221 0.222098    \n",
       "ForeignWorker                  -1.509e+00  7.663e-01  -1.969 0.048961 *  \n",
       "CheckingAccountStatus.lt.0     -2.026e+00  2.379e-01  -8.515  < 2e-16 ***\n",
       "CheckingAccountStatus.0.to.200 -1.368e+00  2.402e-01  -5.694 1.24e-08 ***\n",
       "CheckingAccountStatus.gt.200   -1.091e+00  3.906e-01  -2.794 0.005207 ** \n",
       "CreditHistory.ThisBank.AllPaid  2.290e-01  5.415e-01   0.423 0.672324    \n",
       "CreditHistory.PaidDuly          9.178e-01  4.148e-01   2.213 0.026932 *  \n",
       "CreditHistory.Delay             9.947e-01  4.682e-01   2.124 0.033632 *  \n",
       "CreditHistory.Critical          1.758e+00  4.300e-01   4.088 4.35e-05 ***\n",
       "---\n",
       "Signif. codes:  0 ‘***’ 0.001 ‘**’ 0.01 ‘*’ 0.05 ‘.’ 0.1 ‘ ’ 1\n",
       "\n",
       "(Dispersion parameter for binomial family taken to be 1)\n",
       "\n",
       "    Null deviance: 966.60  on 801  degrees of freedom\n",
       "Residual deviance: 784.25  on 785  degrees of freedom\n",
       "AIC: 818.25\n",
       "\n",
       "Number of Fisher Scoring iterations: 5\n"
      ]
     },
     "metadata": {},
     "output_type": "display_data"
    }
   ],
   "source": [
    "# Command(s):\n",
    "credit.glm <- glm(Class ~ ., family = \"binomial\", data = credit.train)\n",
    "\n",
    "# Summarize:\n",
    "summary(credit.glm)"
   ]
  },
  {
   "cell_type": "markdown",
   "metadata": {},
   "source": [
    "<h3>Q.4. Do values of the coefficients for CreditHistory.Critical agree with your conclusion from Q.3?</h3>"
   ]
  },
  {
   "cell_type": "markdown",
   "metadata": {
    "collapsed": true
   },
   "source": [
    "> **ANSWER Q4**  \n",
    "> $\\hat{E}(Class = Good | CreditHistory.Critical=1) = 1.758$  \n",
    "> Yes. The estimated mean for CreditHistory.Critical is positive and it is statistically significant (p-value = 4.35e-05)"
   ]
  },
  {
   "cell_type": "markdown",
   "metadata": {},
   "source": [
    "<h3>Q.5. Using the developed model, predict the values in credit.test and use it to output a confusion matrix.</h3>"
   ]
  },
  {
   "cell_type": "code",
   "execution_count": 385,
   "metadata": {},
   "outputs": [
    {
     "data": {
      "text/plain": [
       "           labels.actual\n",
       "labels.pred Bad Good\n",
       "       Bad   28   16\n",
       "       Good  39  115"
      ]
     },
     "metadata": {},
     "output_type": "display_data"
    }
   ],
   "source": [
    "# Command that outputs probability for each row of credit.test\n",
    "credit.pred <- predict(object = credit.glm, newdata = credit.test, type = \"response\")\n",
    "\n",
    "# Command(s) for confusion matrix\n",
    "labels.pred <- ifelse(credit.pred > 0.5, \"Good\", \"Bad\") # use 50% threshold to divide between \"Good\" versus \"Bad\"\n",
    "labels.actual <- credit.test$Class\n",
    "\n",
    "table(labels.pred, labels.actual)"
   ]
  },
  {
   "cell_type": "markdown",
   "metadata": {},
   "source": [
    "<h3>Q.6. What is the accuracy of the model on the test data?</h3>"
   ]
  },
  {
   "cell_type": "code",
   "execution_count": 386,
   "metadata": {},
   "outputs": [
    {
     "data": {
      "text/html": [
       "0.722222222222222"
      ],
      "text/latex": [
       "0.722222222222222"
      ],
      "text/markdown": [
       "0.722222222222222"
      ],
      "text/plain": [
       "[1] 0.7222222"
      ]
     },
     "metadata": {},
     "output_type": "display_data"
    }
   ],
   "source": [
    "# Command that outputs acccuracy\n",
    "(28+115) / length(credit.test$Class)  # accuracy = (TP + TN) / total"
   ]
  },
  {
   "cell_type": "markdown",
   "metadata": {},
   "source": [
    "> **ANSWER Q6**  \n",
    "> The model has an accuracy of 72% on the test data set."
   ]
  },
  {
   "cell_type": "markdown",
   "metadata": {},
   "source": [
    "<h3>Q.6. Implement a function that will calculate ROC AUC.</h3>"
   ]
  },
  {
   "cell_type": "code",
   "execution_count": 387,
   "metadata": {},
   "outputs": [],
   "source": [
    "auc <- function(cls, prob) \n",
    "{\n",
    "    # convert test (observed) class labels into boolean vector\n",
    "    cls <- ifelse(cls == \"Good\", TRUE, FALSE)\n",
    "    \n",
    "    # sort labels in descending order using their predicted probs\n",
    "    cls <- cls[order(prob, decreasing=TRUE)]\n",
    "    \n",
    "    # calculate TPR and FPR using cumulative sums\n",
    "    df <- data.frame(FPR = cumsum(!cls) / sum(!cls),\n",
    "                     TPR = cumsum(cls) / sum(cls))\n",
    "    \n",
    "    plot(TPR~FPR, data = df)\n",
    "    \n",
    "    # calculate AUC\n",
    "    AUC <- c()\n",
    "    for(i in 1:(length(df$FPR)-1))\n",
    "        {\n",
    "            h<- mean(df$TPR[i:i+1])\n",
    "            b<- df$FPR[i+1] - df$FPR[i]\n",
    "            AUC[i] <- b*h\n",
    "        }\n",
    "    return(sum(AUC))\n",
    "}\n",
    "\n",
    "# testing...\n",
    "# cls <- credit.test$Class\n",
    "# prob <- credit.pred\n",
    "\n",
    "# blah <- auc(cls, prob)\n",
    "# blah"
   ]
  },
  {
   "cell_type": "markdown",
   "metadata": {},
   "source": [
    "<h3>Q.7. What is the ROC AUC of the model on the test data?</h3>"
   ]
  },
  {
   "cell_type": "code",
   "execution_count": 388,
   "metadata": {},
   "outputs": [
    {
     "data": {
      "text/html": [
       "0.760510424974365"
      ],
      "text/latex": [
       "0.760510424974365"
      ],
      "text/markdown": [
       "0.760510424974365"
      ],
      "text/plain": [
       "[1] 0.7605104"
      ]
     },
     "metadata": {},
     "output_type": "display_data"
    },
    {
     "data": {
      "image/png": "[encoded data removed]",
      "text/plain": [
       "plot without title"
      ]
     },
     "metadata": {},
     "output_type": "display_data"
    }
   ],
   "source": [
    "# Command(s):\n",
    "cls <- credit.test$Class\n",
    "prob <- credit.pred\n",
    "\n",
    "auc(cls, prob)"
   ]
  },
  {
   "cell_type": "markdown",
   "metadata": {},
   "source": [
    "> **ANSWER Q7**  \n",
    "> ROC AUC = 0.7605"
   ]
  },
  {
   "cell_type": "markdown",
   "metadata": {},
   "source": [
    "<h3>Q.8. Calculate LDA model on credit.train.</h3>"
   ]
  },
  {
   "cell_type": "code",
   "execution_count": 389,
   "metadata": {},
   "outputs": [
    {
     "name": "stdout",
     "output_type": "stream",
     "text": [
      "List of 10\n",
      " $ prior  : Named num [1:2] 0.291 0.709\n",
      "  ..- attr(*, \"names\")= chr [1:2] \"Bad\" \"Good\"\n",
      " $ counts : Named int [1:2] 233 569\n",
      "  ..- attr(*, \"names\")= chr [1:2] \"Bad\" \"Good\"\n",
      " $ means  : num [1:2, 1:16] 24.7 19.38 3888.2 3022.95 3.15 ...\n",
      "  ..- attr(*, \"dimnames\")=List of 2\n",
      "  .. ..$ : chr [1:2] \"Bad\" \"Good\"\n",
      "  .. ..$ : chr [1:16] \"Duration\" \"Amount\" \"InstallmentRatePercentage\" \"ResidenceDuration\" ...\n",
      " $ scaling: num [1:16, 1] -1.91e-02 -7.16e-05 -2.29e-01 1.26e-02 1.48e-02 ...\n",
      "  ..- attr(*, \"dimnames\")=List of 2\n",
      "  .. ..$ : chr [1:16] \"Duration\" \"Amount\" \"InstallmentRatePercentage\" \"ResidenceDuration\" ...\n",
      "  .. ..$ : chr \"LD1\"\n",
      " $ lev    : chr [1:2] \"Bad\" \"Good\"\n",
      " $ svd    : num 14.5\n",
      " $ N      : int 802\n",
      " $ call   : language lda(formula = Class ~ ., data = credit.train)\n",
      " $ terms  :Classes 'terms', 'formula'  language Class ~ Duration + Amount + InstallmentRatePercentage + ResidenceDuration +      Age + NumberExistingCredits + NumberPeopleMaintenance + Telephone +  ...\n",
      "  .. ..- attr(*, \"variables\")= language list(Class, Duration, Amount, InstallmentRatePercentage, ResidenceDuration,      Age, NumberExistingCredits, NumberPeopleMaintenance, Telephone, ForeignWorker,  ...\n",
      "  .. ..- attr(*, \"factors\")= int [1:17, 1:16] 0 1 0 0 0 0 0 0 0 0 ...\n",
      "  .. .. ..- attr(*, \"dimnames\")=List of 2\n",
      "  .. .. .. ..$ : chr [1:17] \"Class\" \"Duration\" \"Amount\" \"InstallmentRatePercentage\" ...\n",
      "  .. .. .. ..$ : chr [1:16] \"Duration\" \"Amount\" \"InstallmentRatePercentage\" \"ResidenceDuration\" ...\n",
      "  .. ..- attr(*, \"term.labels\")= chr [1:16] \"Duration\" \"Amount\" \"InstallmentRatePercentage\" \"ResidenceDuration\" ...\n",
      "  .. ..- attr(*, \"order\")= int [1:16] 1 1 1 1 1 1 1 1 1 1 ...\n",
      "  .. ..- attr(*, \"intercept\")= int 1\n",
      "  .. ..- attr(*, \"response\")= int 1\n",
      "  .. ..- attr(*, \".Environment\")=<environment: R_GlobalEnv> \n",
      "  .. ..- attr(*, \"predvars\")= language list(Class, Duration, Amount, InstallmentRatePercentage, ResidenceDuration,      Age, NumberExistingCredits, NumberPeopleMaintenance, Telephone, ForeignWorker,  ...\n",
      "  .. ..- attr(*, \"dataClasses\")= Named chr [1:17] \"factor\" \"numeric\" \"numeric\" \"numeric\" ...\n",
      "  .. .. ..- attr(*, \"names\")= chr [1:17] \"Class\" \"Duration\" \"Amount\" \"InstallmentRatePercentage\" ...\n",
      " $ xlevels: Named list()\n",
      " - attr(*, \"class\")= chr \"lda\"\n"
     ]
    }
   ],
   "source": [
    "# Command\n",
    "credit.lda <- lda(Class ~ ., data = credit.train)\n",
    "str(credit.lda)"
   ]
  },
  {
   "cell_type": "markdown",
   "metadata": {},
   "source": [
    "<h3>Q.9. Determine a confusion matrix for the LDA model calculated on the test data. What is the accuracy of the model?</h3>"
   ]
  },
  {
   "cell_type": "code",
   "execution_count": 390,
   "metadata": {},
   "outputs": [
    {
     "data": {
      "text/plain": [
       "           labels.actual\n",
       "labels.pred Bad Good\n",
       "       Bad   28   17\n",
       "       Good  39  114"
      ]
     },
     "metadata": {},
     "output_type": "display_data"
    },
    {
     "data": {
      "text/html": [
       "0.717171717171717"
      ],
      "text/latex": [
       "0.717171717171717"
      ],
      "text/markdown": [
       "0.717171717171717"
      ],
      "text/plain": [
       "[1] 0.7171717"
      ]
     },
     "metadata": {},
     "output_type": "display_data"
    }
   ],
   "source": [
    "# Predict & confusion matrix\n",
    "lda.pred <- predict(credit.lda, credit.test)\n",
    "\n",
    "labels.pred <- ifelse(lda.pred$posterior[,2] > 0.5, \"Good\", \"Bad\")\n",
    "\n",
    "table(labels.pred, labels.actual)\n",
    "\n",
    "# Accuracy calculation\n",
    "(28+114) / length(credit.test$Class)  # accuracy = (TP + TN) / total"
   ]
  },
  {
   "cell_type": "markdown",
   "metadata": {},
   "source": [
    "> **ANSWER Q9**  \n",
    "> The model has an accuracy of 72% on the test data. For the **credit.all** data, it appears logistic regression and LDA have comparable performance."
   ]
  }
 ],
 "metadata": {
  "kernelspec": {
   "display_name": "R",
   "language": "R",
   "name": "ir"
  },
  "language_info": {
   "codemirror_mode": "r",
   "file_extension": ".r",
   "mimetype": "text/x-r-source",
   "name": "R",
   "pygments_lexer": "r",
   "version": "3.3.2"
  }
 },
 "nbformat": 4,
 "nbformat_minor": 2
}
