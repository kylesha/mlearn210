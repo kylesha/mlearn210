{
 "cells": [
  {
   "cell_type": "markdown",
   "metadata": {},
   "source": [
    "<h1>Lesson 5. Model selection: City of Seattle Wage Data</h1>"
   ]
  },
  {
   "cell_type": "markdown",
   "metadata": {},
   "source": [
    "<img src=\"https://upload.wikimedia.org/wikipedia/commons/thumb/2/2f/Space_Needle002.jpg/320px-Space_Needle002.jpg\" style=\"height:200px;\">\n",
    "  \n",
    "<p>In this exercise you will use recent wage data from City of Seattle to build a model that predicts hourly rate based on:</p>\n",
    "\n",
    "<ul>\n",
    "<li>Department</li>\n",
    "<li>Last.Name</li>\n",
    "<li>First.Name</li>\n",
    "<li>Job.Title</li>\n",
    "</ul>\n",
    "<p>This dataset contains 12,346 entries in which we will try to predict 'Hourly.Rate'</p>\n"
   ]
  },
  {
   "cell_type": "code",
   "execution_count": 62,
   "metadata": {},
   "outputs": [
    {
     "data": {
      "text/html": [
       "<table>\n",
       "<thead><tr><th scope=col>Department</th><th scope=col>Last.Name</th><th scope=col>First.Name</th><th scope=col>Job.Title</th><th scope=col>Hourly.Rate</th></tr></thead>\n",
       "<tbody>\n",
       "\t<tr><td>Arts and Culture        </td><td>Boas-Du Pree            </td><td>Sandra                  </td><td>Admin Staff Asst        </td><td>34.48                   </td></tr>\n",
       "\t<tr><td>Arts and Culture        </td><td>Bolisay                 </td><td>Ronald                  </td><td>Publc Relations Spec    </td><td>29.09                   </td></tr>\n",
       "\t<tr><td>Arts and Culture        </td><td>Chai                    </td><td>Grace                   </td><td>Cooperative Intern *    </td><td>16.12                   </td></tr>\n",
       "\t<tr><td>Arts and Culture        </td><td>Childers                </td><td>Calandra                </td><td>StratAdvsr3,Exempt      </td><td>48.71                   </td></tr>\n",
       "\t<tr><td>Arts and Culture        </td><td>Crooks                  </td><td>Jennifer                </td><td>Arts Prgm Spec          </td><td>35.93                   </td></tr>\n",
       "\t<tr><td>Arts and Culture        </td><td>Davis                   </td><td>Lara                    </td><td>StratAdvsr1,General Govt</td><td>39.29                   </td></tr>\n",
       "</tbody>\n",
       "</table>\n"
      ],
      "text/latex": [
       "\\begin{tabular}{r|lllll}\n",
       " Department & Last.Name & First.Name & Job.Title & Hourly.Rate\\\\\n",
       "\\hline\n",
       "\t Arts and Culture         & Boas-Du Pree             & Sandra                   & Admin Staff Asst         & 34.48                   \\\\\n",
       "\t Arts and Culture         & Bolisay                  & Ronald                   & Publc Relations Spec     & 29.09                   \\\\\n",
       "\t Arts and Culture         & Chai                     & Grace                    & Cooperative Intern *     & 16.12                   \\\\\n",
       "\t Arts and Culture         & Childers                 & Calandra                 & StratAdvsr3,Exempt       & 48.71                   \\\\\n",
       "\t Arts and Culture         & Crooks                   & Jennifer                 & Arts Prgm Spec           & 35.93                   \\\\\n",
       "\t Arts and Culture         & Davis                    & Lara                     & StratAdvsr1,General Govt & 39.29                   \\\\\n",
       "\\end{tabular}\n"
      ],
      "text/markdown": [
       "\n",
       "Department | Last.Name | First.Name | Job.Title | Hourly.Rate | \n",
       "|---|---|---|---|---|---|\n",
       "| Arts and Culture         | Boas-Du Pree             | Sandra                   | Admin Staff Asst         | 34.48                    | \n",
       "| Arts and Culture         | Bolisay                  | Ronald                   | Publc Relations Spec     | 29.09                    | \n",
       "| Arts and Culture         | Chai                     | Grace                    | Cooperative Intern *     | 16.12                    | \n",
       "| Arts and Culture         | Childers                 | Calandra                 | StratAdvsr3,Exempt       | 48.71                    | \n",
       "| Arts and Culture         | Crooks                   | Jennifer                 | Arts Prgm Spec           | 35.93                    | \n",
       "| Arts and Culture         | Davis                    | Lara                     | StratAdvsr1,General Govt | 39.29                    | \n",
       "\n",
       "\n"
      ],
      "text/plain": [
       "  Department       Last.Name    First.Name Job.Title                Hourly.Rate\n",
       "1 Arts and Culture Boas-Du Pree Sandra     Admin Staff Asst         34.48      \n",
       "2 Arts and Culture Bolisay      Ronald     Publc Relations Spec     29.09      \n",
       "3 Arts and Culture Chai         Grace      Cooperative Intern *     16.12      \n",
       "4 Arts and Culture Childers     Calandra   StratAdvsr3,Exempt       48.71      \n",
       "5 Arts and Culture Crooks       Jennifer   Arts Prgm Spec           35.93      \n",
       "6 Arts and Culture Davis        Lara       StratAdvsr1,General Govt 39.29      "
      ]
     },
     "metadata": {},
     "output_type": "display_data"
    },
    {
     "name": "stdout",
     "output_type": "stream",
     "text": [
      "'data.frame':\t12346 obs. of  5 variables:\n",
      " $ Department : chr  \"Arts and Culture\" \"Arts and Culture\" \"Arts and Culture\" \"Arts and Culture\" ...\n",
      " $ Last.Name  : chr  \"Boas-Du Pree\" \"Bolisay\" \"Chai\" \"Childers\" ...\n",
      " $ First.Name : chr  \"Sandra\" \"Ronald\" \"Grace\" \"Calandra\" ...\n",
      " $ Job.Title  : chr  \"Admin Staff Asst\" \"Publc Relations Spec\" \"Cooperative Intern *\" \"StratAdvsr3,Exempt\" ...\n",
      " $ Hourly.Rate: num  34.5 29.1 16.1 48.7 35.9 ...\n"
     ]
    }
   ],
   "source": [
    "# Load the data\n",
    "wage_url = \"https://data.seattle.gov/api/views/2khk-5ukd/rows.csv?accessType=DOWNLOAD\"\n",
    "wage = read.csv(wage_url, stringsAsFactors=F)\n",
    "\n",
    "head(wage)\n",
    "str(wage)"
   ]
  },
  {
   "cell_type": "markdown",
   "metadata": {},
   "source": [
    "<h3>Q.1. Write a command that will calculate the number of unique values for each feature.</h3>"
   ]
  },
  {
   "cell_type": "code",
   "execution_count": 63,
   "metadata": {},
   "outputs": [
    {
     "data": {
      "text/html": [
       "<dl class=dl-horizontal>\n",
       "\t<dt>Department</dt>\n",
       "\t\t<dd>36</dd>\n",
       "\t<dt>Last.Name</dt>\n",
       "\t\t<dd>7446</dd>\n",
       "\t<dt>First.Name</dt>\n",
       "\t\t<dd>3319</dd>\n",
       "\t<dt>Job.Title</dt>\n",
       "\t\t<dd>1026</dd>\n",
       "\t<dt>Hourly.Rate</dt>\n",
       "\t\t<dd>1730</dd>\n",
       "</dl>\n"
      ],
      "text/latex": [
       "\\begin{description*}\n",
       "\\item[Department] 36\n",
       "\\item[Last.Name] 7446\n",
       "\\item[First.Name] 3319\n",
       "\\item[Job.Title] 1026\n",
       "\\item[Hourly.Rate] 1730\n",
       "\\end{description*}\n"
      ],
      "text/markdown": [
       "Department\n",
       ":   36Last.Name\n",
       ":   7446First.Name\n",
       ":   3319Job.Title\n",
       ":   1026Hourly.Rate\n",
       ":   1730\n",
       "\n"
      ],
      "text/plain": [
       " Department   Last.Name  First.Name   Job.Title Hourly.Rate \n",
       "         36        7446        3319        1026        1730 "
      ]
     },
     "metadata": {},
     "output_type": "display_data"
    }
   ],
   "source": [
    "# Command(s)\n",
    "sapply(X = colnames(wage),\n",
    "      FUN = function(x) {length(unique(wage[, x]))})"
   ]
  },
  {
   "cell_type": "markdown",
   "metadata": {},
   "source": [
    "<h3>Q.2. Write a command that will show mean wage for each department.</h3>"
   ]
  },
  {
   "cell_type": "code",
   "execution_count": 64,
   "metadata": {},
   "outputs": [
    {
     "data": {
      "text/html": [
       "<dl class=dl-horizontal>\n",
       "\t<dt>Arts and Culture</dt>\n",
       "\t\t<dd>34.91</dd>\n",
       "\t<dt>City Auditor</dt>\n",
       "\t\t<dd>56.01</dd>\n",
       "\t<dt>City Budget Office</dt>\n",
       "\t\t<dd>49.1</dd>\n",
       "\t<dt>City Employees Retirement Syst</dt>\n",
       "\t\t<dd>49.02</dd>\n",
       "\t<dt>City Light</dt>\n",
       "\t\t<dd>42.45</dd>\n",
       "\t<dt>Civil Service Commissions</dt>\n",
       "\t\t<dd>16.03</dd>\n",
       "\t<dt>Community Police Commission</dt>\n",
       "\t\t<dd>43.12</dd>\n",
       "\t<dt>Construction and Land Use</dt>\n",
       "\t\t<dd>20.31</dd>\n",
       "\t<dt>Dept of Education &amp; Early Lrng</dt>\n",
       "\t\t<dd>41.18</dd>\n",
       "\t<dt>Dept of Finance &amp; Admn Svc</dt>\n",
       "\t\t<dd>39.37</dd>\n",
       "\t<dt>Dept of Neighborhoods</dt>\n",
       "\t\t<dd>16.12</dd>\n",
       "\t<dt>Fire Department</dt>\n",
       "\t\t<dd>43.17</dd>\n",
       "\t<dt>Human Services</dt>\n",
       "\t\t<dd>30.27</dd>\n",
       "</dl>\n"
      ],
      "text/latex": [
       "\\begin{description*}\n",
       "\\item[Arts and Culture] 34.91\n",
       "\\item[City Auditor] 56.01\n",
       "\\item[City Budget Office] 49.1\n",
       "\\item[City Employees Retirement Syst] 49.02\n",
       "\\item[City Light] 42.45\n",
       "\\item[Civil Service Commissions] 16.03\n",
       "\\item[Community Police Commission] 43.12\n",
       "\\item[Construction and Land Use] 20.31\n",
       "\\item[Dept of Education \\textbackslash{}\\& Early Lrng] 41.18\n",
       "\\item[Dept of Finance \\textbackslash{}\\& Admn Svc] 39.37\n",
       "\\item[Dept of Neighborhoods] 16.12\n",
       "\\item[Fire Department] 43.17\n",
       "\\item[Human Services] 30.27\n",
       "\\end{description*}\n"
      ],
      "text/markdown": [
       "Arts and Culture\n",
       ":   34.91City Auditor\n",
       ":   56.01City Budget Office\n",
       ":   49.1City Employees Retirement Syst\n",
       ":   49.02City Light\n",
       ":   42.45Civil Service Commissions\n",
       ":   16.03Community Police Commission\n",
       ":   43.12Construction and Land Use\n",
       ":   20.31Dept of Education &amp;amp; Early Lrng\n",
       ":   41.18Dept of Finance &amp;amp; Admn Svc\n",
       ":   39.37Dept of Neighborhoods\n",
       ":   16.12Fire Department\n",
       ":   43.17Human Services\n",
       ":   30.27\n",
       "\n"
      ],
      "text/plain": [
       "              Arts and Culture                   City Auditor \n",
       "                         34.91                          56.01 \n",
       "            City Budget Office City Employees Retirement Syst \n",
       "                         49.10                          49.02 \n",
       "                    City Light      Civil Service Commissions \n",
       "                         42.45                          16.03 \n",
       "   Community Police Commission      Construction and Land Use \n",
       "                         43.12                          20.31 \n",
       "Dept of Education & Early Lrng     Dept of Finance & Admn Svc \n",
       "                         41.18                          39.37 \n",
       "         Dept of Neighborhoods                Fire Department \n",
       "                         16.12                          43.17 \n",
       "                Human Services \n",
       "                         30.27 "
      ]
     },
     "metadata": {},
     "output_type": "display_data"
    }
   ],
   "source": [
    "# Command (s):\n",
    "dept <- unique(wage$Department)\n",
    "\n",
    "deptAvgWage <- sapply(X = dept,\n",
    "                       FUN = function(x) {mean(wage[wage$Department == x, \"Hourly.Rate\"])})\n",
    "head(round(deptAvgWage, 2),13)"
   ]
  },
  {
   "cell_type": "markdown",
   "metadata": {},
   "source": [
    "<h3>Q.3. For the 'Department' feature, create one-hot encodings for each department and add them to the data frame. (i.e. Department.Arts.and.Culture, Department.Legislative)</h3>"
   ]
  },
  {
   "cell_type": "code",
   "execution_count": 65,
   "metadata": {
    "collapsed": true
   },
   "outputs": [],
   "source": [
    "# Command(s) \n",
    "dept <- unique(wage$Department)\n",
    "Department_onehot <- sapply(X = dept,\n",
    "                            FUN = function(x) {ifelse(wage$Department == x, 1, 0)})\n",
    "\n",
    "colnames(Department_onehot) <- paste(\"Department\",\n",
    "               stringi::stri_replace_all(str = colnames(Department_onehot), replacement = '.', regex = '\\\\s'),\n",
    "               sep = '.')\n",
    "\n",
    "wage <- cbind(wage,Department_onehot)\n",
    "\n",
    "# sanity checks\n",
    "# dim(wage)\n",
    "# colnames(wage)"
   ]
  },
  {
   "cell_type": "markdown",
   "metadata": {},
   "source": [
    "<h3>Q.4. Use the 'gender' library to determine gender of the person based on their First.Name.</h3>\n",
    "<p>Note that the library returns the most likely gender and associated probability. Introduce IsMale feature to the 'wage' data.frame. Encode the probability in the 'wage' data.frame as log-odds with upper/lower boundary as +5/-5.</p>"
   ]
  },
  {
   "cell_type": "code",
   "execution_count": 66,
   "metadata": {
    "collapsed": true
   },
   "outputs": [],
   "source": [
    "# install.packages(\"gender\")\n",
    "# install.packages(\"genderdata\", repos = \"http://packages.ropensci.org\")\n",
    "# library(\"gender\")\n",
    "# library(\"genderdata\")\n",
    "\n",
    "# gender(names=c(\"Lisa\", \"Robin\", \"Madison\", \"Judy\"))"
   ]
  },
  {
   "cell_type": "markdown",
   "metadata": {},
   "source": [
    "> **NOTE Q4: Cannot get it to work! Skipping this question per Tomasz instruction. **"
   ]
  },
  {
   "cell_type": "markdown",
   "metadata": {},
   "source": [
    "<h3>Q.5. Are men paid more than women in the City of Seattle?</h3>"
   ]
  },
  {
   "cell_type": "code",
   "execution_count": 67,
   "metadata": {},
   "outputs": [
    {
     "data": {
      "text/html": [
       "0"
      ],
      "text/latex": [
       "0"
      ],
      "text/markdown": [
       "0"
      ],
      "text/plain": [
       "[1] 0"
      ]
     },
     "metadata": {},
     "output_type": "display_data"
    },
    {
     "data": {
      "text/plain": [
       "\n",
       "\tWelch Two Sample t-test\n",
       "\n",
       "data:  wage$Hourly.Rate by wage$IsMale\n",
       "t = -9.991, df = 8064.9, p-value < 2.2e-16\n",
       "alternative hypothesis: true difference in means is not equal to 0\n",
       "95 percent confidence interval:\n",
       " -3.155835 -2.120586\n",
       "sample estimates:\n",
       "mean in group 0 mean in group 1 \n",
       "       37.22846        39.86667 \n"
      ]
     },
     "metadata": {},
     "output_type": "display_data"
    },
    {
     "data": {
      "image/png": "[encoded data removed]",
      "text/plain": [
       "plot without title"
      ]
     },
     "metadata": {},
     "output_type": "display_data"
    }
   ],
   "source": [
    "wage_url <- \"https://s3-us-west-2.amazonaws.com/bitflip-software/temp/wage_with_gender.csv\"\n",
    "wageMB <- read.csv(wage_url, stringsAsFactors=F)\n",
    "\n",
    "# combine wage data set with gender feature from wageMB\n",
    "ifelse(all.equal(rownames(wage),rownames(wageMB)), wage$IsMale <- wageMB$is_male, \"ERROR\")\n",
    "       \n",
    "# boxplot\n",
    "boxplot(wage$Hourly.Rate ~ wage$IsMale,\n",
    "        xlab = \"IsMale\",\n",
    "        ylab = \"Hourly.Rate\")\n",
    "\n",
    "# t-test\n",
    "t.test(formula = wage$Hourly.Rate ~ wage$IsMale,\n",
    "       mu = 0,\n",
    "       alternative = \"two.sided\",\n",
    "       conf.level = 0.95)"
   ]
  },
  {
   "cell_type": "markdown",
   "metadata": {},
   "source": [
    "> **ANSWER Q5:**  \n",
    "> ** NOTE: I used Mathew Briggs' data set. He managed to get gender info.**  \n",
    "> The two-sample t-test indicated that there is a statistically significant (p-value < 2.2e-16) difference in wage between mean and women. On average, women earn \\$2.64/hour less than men."
   ]
  },
  {
   "cell_type": "markdown",
   "metadata": {},
   "source": [
    "<h3>Q.6. Generate a Dracula Count feature for the Job.Title feature and attach it to the wage data.frame.</h3>"
   ]
  },
  {
   "cell_type": "code",
   "execution_count": 68,
   "metadata": {
    "collapsed": true
   },
   "outputs": [],
   "source": [
    "# Commands\n",
    "# this question ignored per Tomasz's instruction"
   ]
  },
  {
   "cell_type": "markdown",
   "metadata": {},
   "source": [
    "<h3>Q.7. Split the data to 70% train / 30% test. Train the linear model on the train dataset and evaluate its performance on the test dataset.</h3>\n",
    "<p>The model should have the following features:</p>\n",
    "<ul>\n",
    "<li>One-hot encodings of the department</li>\n",
    "<li>Two features related to gender</li>\n",
    "<li>Dracula Count features for Job.Title</li>\n",
    "</ul>"
   ]
  },
  {
   "cell_type": "code",
   "execution_count": 69,
   "metadata": {},
   "outputs": [
    {
     "name": "stderr",
     "output_type": "stream",
     "text": [
      "Warning message in predict.lm(object = modQ7, newdata = wage.test, interval = \"confidence\"):\n",
      "“prediction from a rank-deficient fit may be misleading”"
     ]
    },
    {
     "data": {
      "text/html": [
       "0.0874864572047671"
      ],
      "text/latex": [
       "0.0874864572047671"
      ],
      "text/markdown": [
       "0.0874864572047671"
      ],
      "text/plain": [
       "[1] 0.08748646"
      ]
     },
     "metadata": {},
     "output_type": "display_data"
    }
   ],
   "source": [
    "# split data into train and test set\n",
    "# NOTE: excluding Department, Last.Name, First.Name, Job.Title from model training\n",
    "set.seed(211)\n",
    "idx <- sample(x = 2, size = nrow(wage), replace = TRUE, prob = c(0.7,0.3))\n",
    "wage.cols <- c(5:42)\n",
    "wage.train <- wage[idx == 1, wage.cols]\n",
    "wage.test <- wage[idx == 2, wage.cols]\n",
    "\n",
    "# sanity checks\n",
    "# dim(wage.train)\n",
    "# dim(wage.test)\n",
    "\n",
    "modQ7 <- lm(Hourly.Rate~., data=wage.train)\n",
    "# summary(modQ7)\n",
    "\n",
    "# Evaluate the model performance on test dataset\n",
    "wage.pred <- data.frame(predict(object = modQ7, newdata = wage.test, interval = \"confidence\"))\n",
    "# str(wage.pred)\n",
    "\n",
    "# fraction of observed that fall within 95% confidence interval of predicted\n",
    "correct <- sum(ifelse(wage.pred$lwr <= wage.test$Hourly.Rate & wage.test$Hourly.Rate <= wage.pred$upr, 1, 0))\n",
    "fract_correct <- correct / length(wage.test$Hourly.Rate)\n",
    "fract_correct"
   ]
  },
  {
   "cell_type": "markdown",
   "metadata": {},
   "source": [
    "> ** ANSWSER Q7:**\n",
    "> To evaluate model performance, I used _predict()_ function on the test data to predict Hourly.Rate for each observation in the test data. Then I asked: \"What fraction of the **observed** values fall within the 95% confidence interval of the **predicted** value? The answer is a lousy 8.7%. "
   ]
  },
  {
   "cell_type": "markdown",
   "metadata": {},
   "source": [
    "<h3>Q.8. Perform recursive feature elimination on the dataset. Plot RMSD on the test set as the function of number of features used in the model.</h3>"
   ]
  },
  {
   "cell_type": "code",
   "execution_count": 71,
   "metadata": {},
   "outputs": [
    {
     "name": "stderr",
     "output_type": "stream",
     "text": [
      "Warning message in predict.lm(object = fit, newdata = wage.test):\n",
      "“prediction from a rank-deficient fit may be misleading”"
     ]
    },
    {
     "data": {
      "image/png": "[encoded data removed]",
      "text/plain": [
       "plot without title"
      ]
     },
     "metadata": {},
     "output_type": "display_data"
    }
   ],
   "source": [
    "wage.tmp <- wage.train\n",
    "\n",
    "rmsd.out <- c()\n",
    "\n",
    "while(length(names(wage.tmp)) > 1)\n",
    "    {\n",
    "        ### Perform RFE - Use coefficient Z-score or Probability to determine which feature is the least likely, like this:\n",
    "        fit <- lm(Hourly.Rate~., data=wage.tmp)\n",
    "        fit.coef <- summary(fit)$coefficients[,4] # get p-value for each coefficient\n",
    "        wage.tmp <- wage.tmp[, -which.max(fit.coef)] # remove feature with least significant p-value\n",
    "\n",
    "        ### run model on test data\n",
    "        wage.tmp.pred <- predict(object = fit, newdata = wage.test)\n",
    "        \n",
    "        ### And use the RMSD score to estimate the model accuracy:\n",
    "        rmsd.out <- c(sqrt(mean((wage.tmp.pred - wage.test$Hourly.Rate)^2)), rmsd.out)\n",
    "    }\n",
    "\n",
    "# head(wage.tmp)\n",
    "# dim(wage.tmp)\n",
    "# rmsd.out\n",
    "\n",
    "# Plot RMSD as the function of # of features\n",
    "plot(x = sort(c(1:length(rmsd.out)), decreasing = TRUE),\n",
    "     y = rmsd.out, type = \"b\", xlab = \"Number of features\", ylab = \"RMSD\")\n",
    "abline(h = min(rmsd.out), lty=2, lwd = 0.5)"
   ]
  },
  {
   "cell_type": "markdown",
   "metadata": {},
   "source": [
    "> **ANSWER Q8**  \n",
    "> Plot of numbers of features versus RMSD. Horizontal dashed line indicates minimum RMSD. It appears that for this model, the maximum performance is with about 20 features or less."
   ]
  },
  {
   "cell_type": "markdown",
   "metadata": {},
   "source": [
    "<h3>Q.9. Implement your model as a shiny app.</h3>\n",
    "<p>In the app, the person should be able to input:</p>\n",
    "<ul>\n",
    "<li>Department (as drop-down list)</li>\n",
    "<li>Gender (as drop-down list)</li>\n",
    "<li>Job.Title (as drop-down list)</li>\n",
    "</ul>\n",
    "<p>and be given expected hourly salary</p>"
   ]
  },
  {
   "cell_type": "code",
   "execution_count": null,
   "metadata": {
    "collapsed": true
   },
   "outputs": [],
   "source": [
    "# For this, create separate app.R file that you should submit together with the Jupyter notebook."
   ]
  },
  {
   "cell_type": "markdown",
   "metadata": {
    "collapsed": true
   },
   "source": [
    "> NOTE Q9: I used dummy model, consisting of Department, Job.Title, Hourly.Rate, and IsMale column of the wage data set. For the shiny app, I was not able to get the server to evaluate and display the predicted hourly wage."
   ]
  }
 ],
 "metadata": {
  "kernelspec": {
   "display_name": "R",
   "language": "R",
   "name": "ir"
  },
  "language_info": {
   "codemirror_mode": "r",
   "file_extension": ".r",
   "mimetype": "text/x-r-source",
   "name": "R",
   "pygments_lexer": "r",
   "version": "3.3.2"
  }
 },
 "nbformat": 4,
 "nbformat_minor": 2
}
